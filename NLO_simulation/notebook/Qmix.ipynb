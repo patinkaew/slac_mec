{
 "cells": [
  {
   "cell_type": "code",
   "execution_count": 1,
   "metadata": {},
   "outputs": [],
   "source": [
    "# import useful modules\n",
    "import numpy as np\n",
    "import matplotlib.pyplot as plt\n",
    "import collections\n",
    "import sys\n",
    "sys.path.insert(1, '../src')\n",
    "from genericCrystal import genericCrystal"
   ]
  },
  {
   "cell_type": "code",
   "execution_count": 2,
   "metadata": {},
   "outputs": [],
   "source": [
    "# refractive index from refractiveindex.info\n",
    "def KDP_n_o(wavelength_nm, temperature):\n",
    "    wl_um = wavelength_nm * 1.0e-3\n",
    "    return np.sqrt(2.259276 + (13.00522*wl_um**2/(wl_um**2 - 400) + 0.01008956/(wl_um**2 - 0.0129426)))\n",
    "\n",
    "def KDP_n_e(wavelength_nm, temperature):\n",
    "    wl_um = wavelength_nm * 1.0e-3\n",
    "    return np.sqrt(2.132668 + (3.2279924*wl_um**2/(wl_um**2 - 400) + 0.008637494/(wl_um**2 - 0.0122810)))\n",
    "    \n",
    "# pack data into dictionary\n",
    "KDP_data = collections.defaultdict(float, { \n",
    "            'name':'KDP',\n",
    "            'temperature': 273.15 + 24.8, # kelvin\n",
    "            'length': 10, # mm\n",
    "            'enable_catching': False,\n",
    "            'n_o': KDP_n_o,\n",
    "            'n_e': KDP_n_e,\n",
    "            'n2': 0, \n",
    "            'theta': 0,\n",
    "            'deff': 2.65e-13 # m/V                \n",
    "            })"
   ]
  },
  {
   "cell_type": "code",
   "execution_count": 3,
   "metadata": {},
   "outputs": [],
   "source": [
    "KDP_crystal = genericCrystal(KDP_data)"
   ]
  },
  {
   "cell_type": "code",
   "execution_count": 4,
   "metadata": {},
   "outputs": [
    {
     "name": "stdout",
     "output_type": "stream",
     "text": [
      "phase matching condition: 526.5(e) = 1053(o) + 1053(o)\n",
      "refractive indexes: pump 1.494, signal 1.494, idler 1.494\n",
      "phase matching angle (theta): 41.18 deg\n",
      "==============================\n",
      "phase matching condition: 526.5(e) = 1053(e) + 1053(o)\n",
      "refractive indexes: pump 1.477, signal 1.460, idler 1.494\n",
      "phase matching angle (theta): 66.75 deg\n",
      "==============================\n",
      "phase matching condition: 526.5(e) = 1053(o) + 1053(e)\n",
      "refractive indexes: pump 1.477, signal 1.494, idler 1.460\n",
      "phase matching angle (theta): 66.75 deg\n",
      "==============================\n"
     ]
    },
    {
     "data": {
      "text/plain": [
       "[(41.17906855243178,\n",
       "  526.5,\n",
       "  1.4940990433882197,\n",
       "  'e',\n",
       "  1053,\n",
       "  1.4940990433882197,\n",
       "  'o',\n",
       "  1053,\n",
       "  1.4940990433882197,\n",
       "  'o'),\n",
       " (66.75083733842297,\n",
       "  526.5,\n",
       "  1.4770447596245122,\n",
       "  'e',\n",
       "  1053,\n",
       "  1.4599904758608049,\n",
       "  'e',\n",
       "  1053,\n",
       "  1.4940990433882197,\n",
       "  'o'),\n",
       " (66.75083733842297,\n",
       "  526.5,\n",
       "  1.4770447596245122,\n",
       "  'e',\n",
       "  1053,\n",
       "  1.4940990433882197,\n",
       "  'o',\n",
       "  1053,\n",
       "  1.4599904758608049,\n",
       "  'e')]"
      ]
     },
     "execution_count": 4,
     "metadata": {},
     "output_type": "execute_result"
    }
   ],
   "source": [
    "KDP_crystal.qmix(0, 1053, 1053)"
   ]
  },
  {
   "cell_type": "code",
   "execution_count": null,
   "metadata": {},
   "outputs": [],
   "source": []
  }
 ],
 "metadata": {
  "kernelspec": {
   "display_name": "Python 3",
   "language": "python",
   "name": "python3"
  },
  "language_info": {
   "codemirror_mode": {
    "name": "ipython",
    "version": 3
   },
   "file_extension": ".py",
   "mimetype": "text/x-python",
   "name": "python",
   "nbconvert_exporter": "python",
   "pygments_lexer": "ipython3",
   "version": "3.7.4"
  }
 },
 "nbformat": 4,
 "nbformat_minor": 2
}
